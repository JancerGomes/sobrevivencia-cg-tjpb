{
 "cells": [
  {
   "cell_type": "markdown",
   "metadata": {},
   "source": [
    "## Dados TJPB"
   ]
  },
  {
   "cell_type": "code",
   "execution_count": null,
   "metadata": {},
   "outputs": [],
   "source": [
    "import pandas as pd\n",
    "import matplotlib.pyplot as plt\n",
    "import seaborn as sns\n",
    "import re\n",
    "import numpy as np\n",
    "\n",
    "plt.rcParams['figure.figsize'] = (12,10)\n",
    "sns.set_theme()"
   ]
  },
  {
   "cell_type": "markdown",
   "metadata": {},
   "source": [
    "# 1 Preparação dos dados"
   ]
  },
  {
   "cell_type": "markdown",
   "metadata": {},
   "source": [
    "## 1.1 Leitura dos dados"
   ]
  },
  {
   "cell_type": "code",
   "execution_count": 87,
   "metadata": {},
   "outputs": [
    {
     "data": {
      "text/html": [
       "<div>\n",
       "<style scoped>\n",
       "    .dataframe tbody tr th:only-of-type {\n",
       "        vertical-align: middle;\n",
       "    }\n",
       "\n",
       "    .dataframe tbody tr th {\n",
       "        vertical-align: top;\n",
       "    }\n",
       "\n",
       "    .dataframe thead th {\n",
       "        text-align: right;\n",
       "    }\n",
       "</style>\n",
       "<table border=\"1\" class=\"dataframe\">\n",
       "  <thead>\n",
       "    <tr style=\"text-align: right;\">\n",
       "      <th></th>\n",
       "      <th>desc</th>\n",
       "      <th>timestamp</th>\n",
       "      <th>id_processo</th>\n",
       "      <th>classe</th>\n",
       "      <th>assunto</th>\n",
       "      <th>org_julg</th>\n",
       "      <th>comp</th>\n",
       "      <th>comarca</th>\n",
       "      <th>valor_causa</th>\n",
       "      <th>status</th>\n",
       "    </tr>\n",
       "  </thead>\n",
       "  <tbody>\n",
       "    <tr>\n",
       "      <th>0</th>\n",
       "      <td>Distribuído por sorteio</td>\n",
       "      <td>2016-04-01 17:40:40.228</td>\n",
       "      <td>0805763-93.2016.8.15.0001</td>\n",
       "      <td>MONITÓRIA</td>\n",
       "      <td>Cheque</td>\n",
       "      <td>9ª Vara Cível de Campina Grande</td>\n",
       "      <td>Cível (Art. 164 LOJE-PB)</td>\n",
       "      <td>Campina Grande - Fórum de Campina Grande</td>\n",
       "      <td>6900.99</td>\n",
       "      <td>Arquivado</td>\n",
       "    </tr>\n",
       "    <tr>\n",
       "      <th>1</th>\n",
       "      <td>Distribuído por sorteio</td>\n",
       "      <td>2016-10-03 11:25:24.804</td>\n",
       "      <td>0818406-83.2016.8.15.0001</td>\n",
       "      <td>PROCEDIMENTO DO JUIZADO ESPECIAL CÍVEL</td>\n",
       "      <td>Cláusulas Abusivas</td>\n",
       "      <td>1º Juizado Especial Cível de Campina Grande</td>\n",
       "      <td>Juizado Especial Cível (Art. 201 LOJE-PB)</td>\n",
       "      <td>Campina Grande - Fórum de Campina Grande</td>\n",
       "      <td>7669.92</td>\n",
       "      <td>Arquivado</td>\n",
       "    </tr>\n",
       "    <tr>\n",
       "      <th>2</th>\n",
       "      <td>Conclusos para decisão</td>\n",
       "      <td>2016-10-03 11:26:11.137</td>\n",
       "      <td>0818406-83.2016.8.15.0001</td>\n",
       "      <td>PROCEDIMENTO DO JUIZADO ESPECIAL CÍVEL</td>\n",
       "      <td>Cláusulas Abusivas</td>\n",
       "      <td>1º Juizado Especial Cível de Campina Grande</td>\n",
       "      <td>Juizado Especial Cível (Art. 201 LOJE-PB)</td>\n",
       "      <td>Campina Grande - Fórum de Campina Grande</td>\n",
       "      <td>7669.92</td>\n",
       "      <td>Arquivado</td>\n",
       "    </tr>\n",
       "    <tr>\n",
       "      <th>3</th>\n",
       "      <td>Não Concedida a Antecipação de tutela</td>\n",
       "      <td>2016-10-18 17:22:44.098</td>\n",
       "      <td>0818406-83.2016.8.15.0001</td>\n",
       "      <td>PROCEDIMENTO DO JUIZADO ESPECIAL CÍVEL</td>\n",
       "      <td>Cláusulas Abusivas</td>\n",
       "      <td>1º Juizado Especial Cível de Campina Grande</td>\n",
       "      <td>Juizado Especial Cível (Art. 201 LOJE-PB)</td>\n",
       "      <td>Campina Grande - Fórum de Campina Grande</td>\n",
       "      <td>7669.92</td>\n",
       "      <td>Arquivado</td>\n",
       "    </tr>\n",
       "    <tr>\n",
       "      <th>4</th>\n",
       "      <td>Expedição de Aviso de recebimento (AR).</td>\n",
       "      <td>2016-10-24 11:57:57.924</td>\n",
       "      <td>0818406-83.2016.8.15.0001</td>\n",
       "      <td>PROCEDIMENTO DO JUIZADO ESPECIAL CÍVEL</td>\n",
       "      <td>Cláusulas Abusivas</td>\n",
       "      <td>1º Juizado Especial Cível de Campina Grande</td>\n",
       "      <td>Juizado Especial Cível (Art. 201 LOJE-PB)</td>\n",
       "      <td>Campina Grande - Fórum de Campina Grande</td>\n",
       "      <td>7669.92</td>\n",
       "      <td>Arquivado</td>\n",
       "    </tr>\n",
       "  </tbody>\n",
       "</table>\n",
       "</div>"
      ],
      "text/plain": [
       "                                      desc               timestamp  \\\n",
       "0                  Distribuído por sorteio 2016-04-01 17:40:40.228   \n",
       "1                  Distribuído por sorteio 2016-10-03 11:25:24.804   \n",
       "2                   Conclusos para decisão 2016-10-03 11:26:11.137   \n",
       "3    Não Concedida a Antecipação de tutela 2016-10-18 17:22:44.098   \n",
       "4  Expedição de Aviso de recebimento (AR). 2016-10-24 11:57:57.924   \n",
       "\n",
       "                 id_processo                                  classe  \\\n",
       "0  0805763-93.2016.8.15.0001                               MONITÓRIA   \n",
       "1  0818406-83.2016.8.15.0001  PROCEDIMENTO DO JUIZADO ESPECIAL CÍVEL   \n",
       "2  0818406-83.2016.8.15.0001  PROCEDIMENTO DO JUIZADO ESPECIAL CÍVEL   \n",
       "3  0818406-83.2016.8.15.0001  PROCEDIMENTO DO JUIZADO ESPECIAL CÍVEL   \n",
       "4  0818406-83.2016.8.15.0001  PROCEDIMENTO DO JUIZADO ESPECIAL CÍVEL   \n",
       "\n",
       "              assunto                                     org_julg  \\\n",
       "0              Cheque              9ª Vara Cível de Campina Grande   \n",
       "1  Cláusulas Abusivas  1º Juizado Especial Cível de Campina Grande   \n",
       "2  Cláusulas Abusivas  1º Juizado Especial Cível de Campina Grande   \n",
       "3  Cláusulas Abusivas  1º Juizado Especial Cível de Campina Grande   \n",
       "4  Cláusulas Abusivas  1º Juizado Especial Cível de Campina Grande   \n",
       "\n",
       "                                        comp  \\\n",
       "0                   Cível (Art. 164 LOJE-PB)   \n",
       "1  Juizado Especial Cível (Art. 201 LOJE-PB)   \n",
       "2  Juizado Especial Cível (Art. 201 LOJE-PB)   \n",
       "3  Juizado Especial Cível (Art. 201 LOJE-PB)   \n",
       "4  Juizado Especial Cível (Art. 201 LOJE-PB)   \n",
       "\n",
       "                                    comarca  valor_causa     status  \n",
       "0  Campina Grande - Fórum de Campina Grande      6900.99  Arquivado  \n",
       "1  Campina Grande - Fórum de Campina Grande      7669.92  Arquivado  \n",
       "2  Campina Grande - Fórum de Campina Grande      7669.92  Arquivado  \n",
       "3  Campina Grande - Fórum de Campina Grande      7669.92  Arquivado  \n",
       "4  Campina Grande - Fórum de Campina Grande      7669.92  Arquivado  "
      ]
     },
     "execution_count": 87,
     "metadata": {},
     "output_type": "execute_result"
    }
   ],
   "source": [
    "procs = pd.read_csv('PA_2021124355_.csv',\n",
    "                    encoding='utf-8-sig')\n",
    "# procs = procs.sort_values(by='Data da movimentação')\n",
    "# renomeia colunas\n",
    "procs.columns = ['desc', 'timestamp',\n",
    "                 'id_processo', 'classe', 'assunto', 'org_julg',\n",
    "                 'comp', 'comarca', 'valor_causa', 'status']\n",
    "procs['timestamp'] = pd.to_datetime(procs['timestamp'])\n",
    "procs.head()\n"
   ]
  },
  {
   "cell_type": "markdown",
   "metadata": {},
   "source": [
    "**Dados iniciais**"
   ]
  },
  {
   "cell_type": "code",
   "execution_count": 88,
   "metadata": {},
   "outputs": [
    {
     "data": {
      "text/plain": [
       "desc            545864\n",
       "timestamp      3846998\n",
       "id_processo     119098\n",
       "classe             142\n",
       "assunto            982\n",
       "org_julg            42\n",
       "comp                22\n",
       "comarca              1\n",
       "valor_causa      41936\n",
       "status               2\n",
       "dtype: int64"
      ]
     },
     "execution_count": 88,
     "metadata": {},
     "output_type": "execute_result"
    }
   ],
   "source": [
    "procs.nunique()"
   ]
  },
  {
   "cell_type": "markdown",
   "metadata": {},
   "source": [
    "Temos 119,098 processos, com 142 classes, 982 assuntos e 42 órgãos julgadores diferentes."
   ]
  },
  {
   "cell_type": "markdown",
   "metadata": {},
   "source": [
    "## 1.2 Limpeza da base"
   ]
  },
  {
   "cell_type": "markdown",
   "metadata": {},
   "source": [
    "Primeiro, são removidos os processos oriundos de varas criminais, uma vez que estão fora do escopo proposto para este trabalho."
   ]
  },
  {
   "cell_type": "code",
   "execution_count": 89,
   "metadata": {},
   "outputs": [
    {
     "name": "stdout",
     "output_type": "stream",
     "text": [
      "['Juizado de Violência Doméstica e Familiar contra a Mulher de Campina Grande', '1ª Vara Criminal de Campina Grande', 'Juizado Especial Criminal de Campina Grande', 'Vara de Entorpecentes de Campina Grande', '5ª Vara Criminal de Campina Grande', '2ª Vara do Tribunal do Júri de Campina Grande', '2ª Vara Criminal de Campina Grande', '3ª Vara Criminal de Campina Grande', '4ª Vara Criminal de Campina Grande', '1ª Vara do Tribunal do Júri de Campina Grande']\n"
     ]
    }
   ],
   "source": [
    "# lista varas criminais\n",
    "orgaos_criminais = [orgao for orgao in procs['org_julg'].unique(\n",
    ") if re.search('crim|entorp|júri|violência', orgao, flags=re.I)]\n",
    "print(orgaos_criminais)"
   ]
  },
  {
   "cell_type": "code",
   "execution_count": 90,
   "metadata": {},
   "outputs": [],
   "source": [
    "# remove processos criminais\n",
    "procs = procs[~procs['org_julg'].isin(orgaos_criminais)]"
   ]
  },
  {
   "cell_type": "code",
   "execution_count": 91,
   "metadata": {},
   "outputs": [
    {
     "data": {
      "text/plain": [
       "desc            380508\n",
       "timestamp      3338518\n",
       "id_processo     100722\n",
       "classe             112\n",
       "assunto            771\n",
       "org_julg            32\n",
       "comp                20\n",
       "comarca              1\n",
       "valor_causa      41930\n",
       "status               2\n",
       "dtype: int64"
      ]
     },
     "execution_count": 91,
     "metadata": {},
     "output_type": "execute_result"
    }
   ],
   "source": [
    "procs.nunique()"
   ]
  },
  {
   "cell_type": "markdown",
   "metadata": {},
   "source": [
    "Abaixo, é ajustada a coluna de descrição das movimentações, substituindo caracteres estranhos por inconsistências no encoding."
   ]
  },
  {
   "cell_type": "code",
   "execution_count": 68,
   "metadata": {},
   "outputs": [],
   "source": [
    "# Limpeza da descrição — Inconsistências de enconding\n",
    "procs['desc'] = (\n",
    "    procs['desc']\n",
    "    .str.replace('Ãª', 'ê', regex=False)\n",
    "    .str.replace('Ã§', 'ç', regex=False)\n",
    ")\n"
   ]
  },
  {
   "cell_type": "code",
   "execution_count": 71,
   "metadata": {},
   "outputs": [
    {
     "data": {
      "text/plain": [
       "desc            380502\n",
       "timestamp      3338518\n",
       "id_processo     100722\n",
       "classe             112\n",
       "assunto            771\n",
       "org_julg            32\n",
       "comp                20\n",
       "comarca              1\n",
       "valor_causa      41930\n",
       "status               2\n",
       "dtype: int64"
      ]
     },
     "execution_count": 71,
     "metadata": {},
     "output_type": "execute_result"
    }
   ],
   "source": [
    "procs.nunique()"
   ]
  },
  {
   "cell_type": "markdown",
   "metadata": {},
   "source": [
    "## 1.2 Tranformação da base\n",
    "Num primeiro momento, a base de movimentações será transformada de modo a calcular a duração de cada processo.\n",
    "Examinaremos a coluna *desc* (descrição da movimentação) para verificar qual movimentação marca o fim do processo, havendo este sido finalizado"
   ]
  },
  {
   "cell_type": "code",
   "execution_count": 1,
   "metadata": {},
   "outputs": [
    {
     "ename": "NameError",
     "evalue": "name 'procs' is not defined",
     "output_type": "error",
     "traceback": [
      "\u001b[1;31m---------------------------------------------------------------------------\u001b[0m",
      "\u001b[1;31mNameError\u001b[0m                                 Traceback (most recent call last)",
      "\u001b[1;32m<ipython-input-1-a01eee641d21>\u001b[0m in \u001b[0;36m<module>\u001b[1;34m\u001b[0m\n\u001b[0;32m      2\u001b[0m \u001b[1;31m# Exemplo: \"[941]\"\u001b[0m\u001b[1;33m\u001b[0m\u001b[1;33m\u001b[0m\u001b[1;33m\u001b[0m\u001b[0m\n\u001b[0;32m      3\u001b[0m \u001b[1;33m\u001b[0m\u001b[0m\n\u001b[1;32m----> 4\u001b[1;33m \u001b[0mprocs\u001b[0m\u001b[1;33m[\u001b[0m\u001b[1;34m'num_desc'\u001b[0m\u001b[1;33m]\u001b[0m \u001b[1;33m=\u001b[0m \u001b[0mprocs\u001b[0m\u001b[1;33m[\u001b[0m\u001b[1;34m'desc'\u001b[0m\u001b[1;33m]\u001b[0m\u001b[1;33m.\u001b[0m\u001b[0mstr\u001b[0m\u001b[1;33m.\u001b[0m\u001b[0mextract\u001b[0m\u001b[1;33m(\u001b[0m\u001b[1;34m'\\[(\\d+)\\]'\u001b[0m\u001b[1;33m)\u001b[0m\u001b[1;33m\u001b[0m\u001b[1;33m\u001b[0m\u001b[0m\n\u001b[0m\u001b[0;32m      5\u001b[0m \u001b[0mprocs\u001b[0m\u001b[1;33m.\u001b[0m\u001b[0mhead\u001b[0m\u001b[1;33m(\u001b[0m\u001b[1;33m)\u001b[0m\u001b[1;33m\u001b[0m\u001b[1;33m\u001b[0m\u001b[0m\n",
      "\u001b[1;31mNameError\u001b[0m: name 'procs' is not defined"
     ]
    }
   ],
   "source": [
    "# extrai número caracterizador da movimentação, entre colchetes\n",
    "# Exemplo: \"[941]\"\n",
    "\n",
    "procs['num_desc'] = procs['desc'].str.extract('\\[(\\d+)\\]')\n",
    "procs.head()"
   ]
  },
  {
   "cell_type": "code",
   "execution_count": null,
   "metadata": {},
   "outputs": [],
   "source": [
    "procs.groupby('id_processo')['']"
   ]
  },
  {
   "cell_type": "code",
   "execution_count": 73,
   "metadata": {},
   "outputs": [
    {
     "data": {
      "text/html": [
       "<div>\n",
       "<style scoped>\n",
       "    .dataframe tbody tr th:only-of-type {\n",
       "        vertical-align: middle;\n",
       "    }\n",
       "\n",
       "    .dataframe tbody tr th {\n",
       "        vertical-align: top;\n",
       "    }\n",
       "\n",
       "    .dataframe thead th {\n",
       "        text-align: right;\n",
       "    }\n",
       "</style>\n",
       "<table border=\"1\" class=\"dataframe\">\n",
       "  <thead>\n",
       "    <tr style=\"text-align: right;\">\n",
       "      <th></th>\n",
       "      <th>Cód</th>\n",
       "      <th>Movimento</th>\n",
       "      <th>Caminho completo</th>\n",
       "    </tr>\n",
       "  </thead>\n",
       "  <tbody>\n",
       "    <tr>\n",
       "      <th>0</th>\n",
       "      <td>385</td>\n",
       "      <td>Absolvido sumariamente o réu - art. 397 do CPP</td>\n",
       "      <td>Magistrado (1) | Julgamento (193) | Com Resolu...</td>\n",
       "    </tr>\n",
       "    <tr>\n",
       "      <th>1</th>\n",
       "      <td>10964</td>\n",
       "      <td>Extinto o Processo por Cumprimento da Medida S...</td>\n",
       "      <td>Magistrado (1) | Julgamento (193) | Com Resolu...</td>\n",
       "    </tr>\n",
       "    <tr>\n",
       "      <th>2</th>\n",
       "      <td>11401</td>\n",
       "      <td>Julgado procedente o pedido e procedente o ped...</td>\n",
       "      <td>Magistrado (1) | Julgamento (193) | Com Resolu...</td>\n",
       "    </tr>\n",
       "    <tr>\n",
       "      <th>3</th>\n",
       "      <td>11402</td>\n",
       "      <td>Julgado procedente o pedido e procedente em pa...</td>\n",
       "      <td>Magistrado (1) | Julgamento (193) | Com Resolu...</td>\n",
       "    </tr>\n",
       "    <tr>\n",
       "      <th>4</th>\n",
       "      <td>11403</td>\n",
       "      <td>Julgado procedente o pedido e improcedente o p...</td>\n",
       "      <td>Magistrado (1) | Julgamento (193) | Com Resolu...</td>\n",
       "    </tr>\n",
       "  </tbody>\n",
       "</table>\n",
       "</div>"
      ],
      "text/plain": [
       "     Cód                                          Movimento  \\\n",
       "0    385     Absolvido sumariamente o réu - art. 397 do CPP   \n",
       "1  10964  Extinto o Processo por Cumprimento da Medida S...   \n",
       "2  11401  Julgado procedente o pedido e procedente o ped...   \n",
       "3  11402  Julgado procedente o pedido e procedente em pa...   \n",
       "4  11403  Julgado procedente o pedido e improcedente o p...   \n",
       "\n",
       "                                    Caminho completo  \n",
       "0  Magistrado (1) | Julgamento (193) | Com Resolu...  \n",
       "1  Magistrado (1) | Julgamento (193) | Com Resolu...  \n",
       "2  Magistrado (1) | Julgamento (193) | Com Resolu...  \n",
       "3  Magistrado (1) | Julgamento (193) | Com Resolu...  \n",
       "4  Magistrado (1) | Julgamento (193) | Com Resolu...  "
      ]
     },
     "execution_count": 73,
     "metadata": {},
     "output_type": "execute_result"
    }
   ],
   "source": [
    "# Lê arquivo de movimentações que caracterizam o julgamento\n",
    "# Fonte: DITEC - TJPB\n",
    "movs_julgamento = pd.read_excel('mov_julgamentos.xlsx')\n",
    "movs_julgamento['Cód'] = movs_julgamento['Cód'].astype(str)\n",
    "movs_julgamento.head()"
   ]
  },
  {
   "cell_type": "code",
   "execution_count": 76,
   "metadata": {},
   "outputs": [
    {
     "data": {
      "text/plain": [
       "(78933, 11)"
      ]
     },
     "execution_count": 76,
     "metadata": {},
     "output_type": "execute_result"
    }
   ],
   "source": [
    "# procs.loc[procs['desc'].isin(movs_julgamento['Movimento'])].shape\n",
    "procs.loc[procs['desc'].str.rstrip('.') .isin(movs_julgamento['Movimento'])].shape"
   ]
  },
  {
   "cell_type": "code",
   "execution_count": null,
   "metadata": {},
   "outputs": [],
   "source": [
    "procs[procs['num_desc'].isin(movs_julgamento['Cód'])]"
   ]
  },
  {
   "cell_type": "code",
   "execution_count": null,
   "metadata": {},
   "outputs": [],
   "source": [
    "procs.loc[procs['desc'].str.contains('Extinto',flags=re.I),'desc']"
   ]
  },
  {
   "cell_type": "code",
   "execution_count": null,
   "metadata": {},
   "outputs": [],
   "source": [
    "procs.head()"
   ]
  },
  {
   "cell_type": "code",
   "execution_count": null,
   "metadata": {},
   "outputs": [],
   "source": [
    "procs['timestamp'].describe(datetime_is_numeric=True)"
   ]
  },
  {
   "cell_type": "code",
   "execution_count": null,
   "metadata": {},
   "outputs": [],
   "source": [
    "procs.loc[procs['desc'].str.contains('\\d'), 'id_processo'].nunique()"
   ]
  },
  {
   "cell_type": "code",
   "execution_count": null,
   "metadata": {},
   "outputs": [],
   "source": [
    "procs.drop_duplicates(subset='id_processo') ['status'].value_counts()"
   ]
  },
  {
   "cell_type": "code",
   "execution_count": null,
   "metadata": {},
   "outputs": [],
   "source": [
    "procs['id_processo'].nunique()"
   ]
  },
  {
   "cell_type": "code",
   "execution_count": null,
   "metadata": {},
   "outputs": [],
   "source": [
    "procs['assunto'].isna().sum()"
   ]
  },
  {
   "cell_type": "code",
   "execution_count": null,
   "metadata": {},
   "outputs": [],
   "source": [
    "# procs.groupby('id_processo')['classe'].nunique().value_counts()\n",
    "procs.groupby('id_processo')['assunto'].nunique().value_counts()"
   ]
  },
  {
   "cell_type": "code",
   "execution_count": null,
   "metadata": {},
   "outputs": [],
   "source": [
    "procs.groupby('id_processo')['desc'].first()#.value_counts().head(20)"
   ]
  },
  {
   "cell_type": "code",
   "execution_count": null,
   "metadata": {},
   "outputs": [],
   "source": [
    "procs['desc'].value_counts().head(25)"
   ]
  },
  {
   "cell_type": "code",
   "execution_count": null,
   "metadata": {},
   "outputs": [],
   "source": [
    "list(range(-10,0))"
   ]
  },
  {
   "cell_type": "code",
   "execution_count": null,
   "metadata": {},
   "outputs": [],
   "source": [
    "# procs.query(\"status=='Arquivado'\") .groupby('id_processo')['desc'].nth([-1,-2, -3]).value_counts().head(25)\n",
    "procs.query(\"status=='Arquivado'\") .groupby('id_processo')['desc'].nth([-1,-2, -3]).value_counts().head(25)\n"
   ]
  },
  {
   "cell_type": "code",
   "execution_count": null,
   "metadata": {},
   "outputs": [],
   "source": []
  },
  {
   "cell_type": "code",
   "execution_count": null,
   "metadata": {},
   "outputs": [],
   "source": [
    "# procs.loc[procs['desc'].str.contains('extint|senten', flags=re.I), 'desc'].value_counts().head(25)\n",
    "procs.loc[procs['desc'].str.contains('decis[aã]o', flags=re.I), 'desc'].value_counts().head(25)"
   ]
  },
  {
   "cell_type": "code",
   "execution_count": null,
   "metadata": {},
   "outputs": [],
   "source": [
    "slice(-5,0)"
   ]
  },
  {
   "cell_type": "code",
   "execution_count": null,
   "metadata": {},
   "outputs": [],
   "source": [
    "procs.groupby('id_processo')['desc'].nth(1).value_counts()"
   ]
  },
  {
   "cell_type": "code",
   "execution_count": null,
   "metadata": {},
   "outputs": [],
   "source": [
    "procs.groupby('Nº do Processo')['Descrição da movimentação'].last().value_counts().head(10)"
   ]
  },
  {
   "cell_type": "code",
   "execution_count": null,
   "metadata": {},
   "outputs": [],
   "source": [
    "procs['Status'].value_counts()"
   ]
  }
 ],
 "metadata": {
  "interpreter": {
   "hash": "442a41862f709bdedb774cd85a0e376db7eb329520e794b46d2f27c3de0e9026"
  },
  "kernelspec": {
   "display_name": "Python 3.8.5 64-bit ('base': conda)",
   "name": "python3"
  },
  "language_info": {
   "codemirror_mode": {
    "name": "ipython",
    "version": 3
   },
   "file_extension": ".py",
   "mimetype": "text/x-python",
   "name": "python",
   "nbconvert_exporter": "python",
   "pygments_lexer": "ipython3",
   "version": "3.8.5"
  },
  "orig_nbformat": 2
 },
 "nbformat": 4,
 "nbformat_minor": 2
}
